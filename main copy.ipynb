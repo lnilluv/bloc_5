{
 "cells": [
  {
   "cell_type": "code",
   "execution_count": null,
   "metadata": {},
   "outputs": [],
   "source": [
    "import pandas as pd\n",
    "\n",
    "df = pd.read_csv('data/get_around_pricing_project.csv')"
   ]
  },
  {
   "cell_type": "code",
   "execution_count": null,
   "metadata": {},
   "outputs": [],
   "source": [
    "print(df.head())\n",
    "print(df.info())"
   ]
  },
  {
   "cell_type": "code",
   "execution_count": null,
   "metadata": {},
   "outputs": [],
   "source": [
    "# Separate target variable Y from features X  \n",
    "target_name = 'rental_price_per_day'  \n",
    "\n",
    "Y = df.loc[:,target_name]  \n",
    "X = df.drop(target_name, axis = 1) \n"
   ]
  },
  {
   "cell_type": "code",
   "execution_count": null,
   "metadata": {},
   "outputs": [],
   "source": [
    "# Automatically detect names of numeric/categorical columns  \n",
    "numeric_features = []  \n",
    "categorical_features = []  \n",
    "for i,t in X.dtypes.iteritems():  \n",
    "    if ('float' in str(t)) or ('int' in str(t)) :  \n",
    "        numeric_features.append(i)  \n",
    "    else :  \n",
    "        categorical_features.append(i)  \n",
    "  \n",
    "print('Found numeric features ', numeric_features)  \n",
    "print('Found categorical features ', categorical_features)"
   ]
  }
 ],
 "metadata": {
  "language_info": {
   "name": "python"
  },
  "orig_nbformat": 4
 },
 "nbformat": 4,
 "nbformat_minor": 2
}
