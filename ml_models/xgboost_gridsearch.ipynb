{
 "cells": [
  {
   "cell_type": "code",
   "execution_count": 15,
   "metadata": {},
   "outputs": [],
   "source": [
    "import pandas as pd\n",
    "import numpy as np\n",
    "from sklearn.linear_model import LinearRegression\n",
    "from sklearn.tree import DecisionTreeRegressor\n",
    "from sklearn.ensemble import RandomForestRegressor, GradientBoostingRegressor\n",
    "from sklearn.model_selection import GridSearchCV\n",
    "from sklearn.model_selection import train_test_split\n",
    "from sklearn.pipeline import Pipeline\n",
    "from sklearn.impute import SimpleImputer\n",
    "from sklearn.preprocessing import StandardScaler, OneHotEncoder\n",
    "from sklearn.compose import ColumnTransformer\n",
    "from sklearn.metrics import mean_squared_error, r2_score\n",
    "from sklearn.exceptions import ConvergenceWarning\n",
    "from sklearn.linear_model import LinearRegression\n",
    "from sklearn.tree import DecisionTreeRegressor\n",
    "from sklearn.ensemble import RandomForestRegressor, GradientBoostingRegressor\n",
    "from sklearn.linear_model import Lasso\n",
    "from sklearn.linear_model import ElasticNet\n",
    "from sklearn.linear_model import Ridge\n",
    "from sklearn.svm import SVR\n",
    "from sklearn.tree import DecisionTreeRegressor\n",
    "from sklearn.ensemble import RandomForestRegressor\n",
    "from sklearn.ensemble import GradientBoostingRegressor\n",
    "from xgboost import XGBRegressor\n",
    "# from lightgbm import LGBMRegressor\n",
    "from catboost import CatBoostRegressor\n"
   ]
  },
  {
   "cell_type": "code",
   "execution_count": 16,
   "metadata": {},
   "outputs": [
    {
     "name": "stdout",
     "output_type": "stream",
     "text": [
      "  model_key  mileage  engine_power    fuel paint_color     car_type   \n",
      "0   Citroën   140411           100  diesel       black  convertible  \\\n",
      "1   Citroën    13929           317  petrol        grey  convertible   \n",
      "2   Citroën   183297           120  diesel       white  convertible   \n",
      "3   Citroën   128035           135  diesel         red  convertible   \n",
      "4   Citroën    97097           160  diesel      silver  convertible   \n",
      "\n",
      "   private_parking_available  has_gps  has_air_conditioning  automatic_car   \n",
      "0                       True     True                 False          False  \\\n",
      "1                       True     True                 False          False   \n",
      "2                      False    False                 False          False   \n",
      "3                       True     True                 False          False   \n",
      "4                       True     True                 False          False   \n",
      "\n",
      "   has_getaround_connect  has_speed_regulator  winter_tires   \n",
      "0                   True                 True          True  \\\n",
      "1                  False                 True          True   \n",
      "2                   True                False          True   \n",
      "3                   True                 True          True   \n",
      "4                  False                 True          True   \n",
      "\n",
      "   rental_price_per_day  \n",
      "0                   106  \n",
      "1                   264  \n",
      "2                   101  \n",
      "3                   158  \n",
      "4                   183  \n"
     ]
    }
   ],
   "source": [
    "# Load the data\n",
    "df = pd.read_csv('data/get_around_pricing_project.csv', index_col=0)\n",
    "\n",
    "print(df.head())"
   ]
  },
  {
   "cell_type": "code",
   "execution_count": 17,
   "metadata": {},
   "outputs": [
    {
     "name": "stdout",
     "output_type": "stream",
     "text": [
      "<class 'pandas.core.frame.DataFrame'>\n",
      "Index: 4843 entries, 0 to 4842\n",
      "Data columns (total 14 columns):\n",
      " #   Column                     Non-Null Count  Dtype \n",
      "---  ------                     --------------  ----- \n",
      " 0   model_key                  4843 non-null   object\n",
      " 1   mileage                    4843 non-null   int64 \n",
      " 2   engine_power               4843 non-null   int64 \n",
      " 3   fuel                       4843 non-null   object\n",
      " 4   paint_color                4843 non-null   object\n",
      " 5   car_type                   4843 non-null   object\n",
      " 6   private_parking_available  4843 non-null   bool  \n",
      " 7   has_gps                    4843 non-null   bool  \n",
      " 8   has_air_conditioning       4843 non-null   bool  \n",
      " 9   automatic_car              4843 non-null   bool  \n",
      " 10  has_getaround_connect      4843 non-null   bool  \n",
      " 11  has_speed_regulator        4843 non-null   bool  \n",
      " 12  winter_tires               4843 non-null   bool  \n",
      " 13  rental_price_per_day       4843 non-null   int64 \n",
      "dtypes: bool(7), int64(3), object(4)\n",
      "memory usage: 335.8+ KB\n",
      "None\n"
     ]
    }
   ],
   "source": [
    "print(df.info())"
   ]
  },
  {
   "cell_type": "code",
   "execution_count": 18,
   "metadata": {},
   "outputs": [
    {
     "name": "stdout",
     "output_type": "stream",
     "text": [
      "Percentage of missing values: \n"
     ]
    },
    {
     "data": {
      "text/plain": [
       "model_key                    0.0\n",
       "mileage                      0.0\n",
       "engine_power                 0.0\n",
       "fuel                         0.0\n",
       "paint_color                  0.0\n",
       "car_type                     0.0\n",
       "private_parking_available    0.0\n",
       "has_gps                      0.0\n",
       "has_air_conditioning         0.0\n",
       "automatic_car                0.0\n",
       "has_getaround_connect        0.0\n",
       "has_speed_regulator          0.0\n",
       "winter_tires                 0.0\n",
       "rental_price_per_day         0.0\n",
       "dtype: float64"
      ]
     },
     "metadata": {},
     "output_type": "display_data"
    }
   ],
   "source": [
    "print(\"Percentage of missing values: \")\n",
    "display(100*df.isnull().sum()/df.shape[0])"
   ]
  },
  {
   "cell_type": "code",
   "execution_count": 19,
   "metadata": {},
   "outputs": [],
   "source": [
    "# Extract the features\n",
    "X = df.drop('rental_price_per_day', axis=1)\n",
    "\n",
    "# Extract the target column\n",
    "y = df.loc[:, 'rental_price_per_day']\n",
    "\n",
    "# Train / test split \n",
    "X_train, X_test, y_train, y_test = train_test_split(X, y, random_state=42, test_size = 0.2)"
   ]
  },
  {
   "cell_type": "code",
   "execution_count": 20,
   "metadata": {},
   "outputs": [],
   "source": [
    "# determine categorical and numerical features\n",
    "numerical_features = X.select_dtypes(include=['int64', 'float64']).columns\n",
    "categorical_features = X.select_dtypes(include=['object', 'bool']).columns\n",
    "\n",
    "# Numerical Transformer\n",
    "numerical_transformer = Pipeline([\n",
    "        ('imputer', SimpleImputer(strategy='mean')),\n",
    "        ('scaler', StandardScaler())\n",
    "])\n",
    "\n",
    "# Categorical Transformer\n",
    "categorical_transformer = Pipeline([\n",
    "        ('imputer', SimpleImputer(strategy='most_frequent')),\n",
    "        ('encoder', OneHotEncoder(drop='first', handle_unknown='ignore'))\n",
    "])\n",
    "\n",
    "preprocessor = ColumnTransformer(\n",
    "    transformers=[\n",
    "        (\"numerical_transformer\", numerical_transformer, numerical_features),\n",
    "        (\"categorical_transformer\", categorical_transformer, categorical_features)\n",
    "    ]\n",
    ")\n",
    "\n",
    "# X_train = preprocessor.fit_transform(X_train)\n",
    "# X_test = preprocessor.transform(X_test)"
   ]
  },
  {
   "cell_type": "code",
   "execution_count": 21,
   "metadata": {},
   "outputs": [
    {
     "name": "stdout",
     "output_type": "stream",
     "text": [
      "Fitting 5 folds for each of 1 candidates, totalling 5 fits\n"
     ]
    },
    {
     "name": "stderr",
     "output_type": "stream",
     "text": [
      "/Users/pryda/.pyenv/versions/3.10.9/envs/bloc_5/lib/python3.10/site-packages/sklearn/preprocessing/_encoders.py:202: UserWarning: Found unknown categories in columns [0] during transform. These unknown categories will be encoded as all zeros\n",
      "  warnings.warn(\n",
      "/Users/pryda/.pyenv/versions/3.10.9/envs/bloc_5/lib/python3.10/site-packages/sklearn/preprocessing/_encoders.py:202: UserWarning: Found unknown categories in columns [0] during transform. These unknown categories will be encoded as all zeros\n",
      "  warnings.warn(\n",
      "/Users/pryda/.pyenv/versions/3.10.9/envs/bloc_5/lib/python3.10/site-packages/sklearn/preprocessing/_encoders.py:202: UserWarning: Found unknown categories in columns [0] during transform. These unknown categories will be encoded as all zeros\n",
      "  warnings.warn(\n"
     ]
    },
    {
     "name": "stdout",
     "output_type": "stream",
     "text": [
      "Best parameters for XGBRegressor: {'model__gamma': 0, 'model__learning_rate': 0.1, 'model__max_depth': 10, 'model__min_child_weight': 5, 'model__n_estimators': 100}\n",
      "          Model                                        Best_Params   \n",
      "0  XGBRegressor  {'model__gamma': 0, 'model__learning_rate': 0....  \\\n",
      "\n",
      "   Best_Score  Train_RMSE  Test_RMSE  Train_R2   Test_R2  \n",
      "0 -265.045043    8.302036  16.576924  0.939795  0.739092  \n"
     ]
    }
   ],
   "source": [
    "# List of models\n",
    "models = [\n",
    "    XGBRegressor()\n",
    "]\n",
    "\n",
    "# List of param_grids for each model\n",
    "param_grids = [\n",
    "{'model__gamma': [0], 'model__learning_rate': [0.1], 'model__max_depth': [10], 'model__min_child_weight': [5], 'model__n_estimators': [100]}\n",
    "]\n",
    "# Initialize an empty DataFrame to store the results\n",
    "results_df = pd.DataFrame(columns=['Model', 'Best_Params', 'Best_Score'])\n",
    "\n",
    "results = []\n",
    "\n",
    "for i, model in enumerate(models):\n",
    "    param_grid = param_grids[i]\n",
    "    \n",
    "    # Create a pipeline with the preprocessor and the model\n",
    "    pipeline = Pipeline([\n",
    "        ('preprocessor', preprocessor),\n",
    "        ('model', model)\n",
    "    ])\n",
    "\n",
    "    # Perform grid search with the current model and its param_grid\n",
    "    grid = GridSearchCV(pipeline, param_grid, cv=5, scoring='neg_mean_squared_error', n_jobs=-1, verbose=1)\n",
    "\n",
    "    grid.fit(X_train, y_train)\n",
    "\n",
    "    # Store the best estimator and its score\n",
    "    best_estimator = grid.best_estimator_\n",
    "    best_score = grid.best_score_\n",
    "    \n",
    "    results.append((best_estimator, best_score))\n",
    "\n",
    "    # Make predictions on train and test sets\n",
    "    y_train_pred = best_estimator.predict(X_train)\n",
    "    y_test_pred = best_estimator.predict(X_test)\n",
    "\n",
    "    # Calculate RMSE on train and test sets\n",
    "    train_rmse = np.sqrt(mean_squared_error(y_train, y_train_pred))\n",
    "    test_rmse = np.sqrt(mean_squared_error(y_test, y_test_pred))\n",
    "\n",
    "    # Calculate R2 score on train and test sets\n",
    "    train_r2 = r2_score(y_train, y_train_pred)\n",
    "    test_r2 = r2_score(y_test, y_test_pred)\n",
    "\n",
    "    # Add the R2 scores to the DataFrame\n",
    "    results_df = pd.concat([results_df, pd.DataFrame({\n",
    "        'Model': [model.__class__.__name__],\n",
    "        'Best_Params': [grid.best_params_],\n",
    "        'Best_Score': [best_score],\n",
    "        'Train_RMSE': [train_rmse],\n",
    "        'Test_RMSE': [test_rmse],\n",
    "        'Train_R2': [train_r2],\n",
    "        'Test_R2': [test_r2]\n",
    "    })], ignore_index=True)\n",
    "    \n",
    "    print(f\"Best parameters for {model.__class__.__name__}: {grid.best_params_}\")\n",
    "    \n",
    "# Print the results DataFrame\n",
    "print(results_df)"
   ]
  },
  {
   "cell_type": "code",
   "execution_count": 22,
   "metadata": {},
   "outputs": [
    {
     "data": {
      "text/html": [
       "<div>\n",
       "<style scoped>\n",
       "    .dataframe tbody tr th:only-of-type {\n",
       "        vertical-align: middle;\n",
       "    }\n",
       "\n",
       "    .dataframe tbody tr th {\n",
       "        vertical-align: top;\n",
       "    }\n",
       "\n",
       "    .dataframe thead th {\n",
       "        text-align: right;\n",
       "    }\n",
       "</style>\n",
       "<table border=\"1\" class=\"dataframe\">\n",
       "  <thead>\n",
       "    <tr style=\"text-align: right;\">\n",
       "      <th></th>\n",
       "      <th>Model</th>\n",
       "      <th>Best_Params</th>\n",
       "      <th>Best_Score</th>\n",
       "      <th>Train_RMSE</th>\n",
       "      <th>Test_RMSE</th>\n",
       "      <th>Train_R2</th>\n",
       "      <th>Test_R2</th>\n",
       "    </tr>\n",
       "  </thead>\n",
       "  <tbody>\n",
       "    <tr>\n",
       "      <th>0</th>\n",
       "      <td>XGBRegressor</td>\n",
       "      <td>{'model__gamma': 0, 'model__learning_rate': 0....</td>\n",
       "      <td>-265.045043</td>\n",
       "      <td>8.302036</td>\n",
       "      <td>16.576924</td>\n",
       "      <td>0.939795</td>\n",
       "      <td>0.739092</td>\n",
       "    </tr>\n",
       "  </tbody>\n",
       "</table>\n",
       "</div>"
      ],
      "text/plain": [
       "          Model                                        Best_Params   \n",
       "0  XGBRegressor  {'model__gamma': 0, 'model__learning_rate': 0....  \\\n",
       "\n",
       "   Best_Score  Train_RMSE  Test_RMSE  Train_R2   Test_R2  \n",
       "0 -265.045043    8.302036  16.576924  0.939795  0.739092  "
      ]
     },
     "execution_count": 22,
     "metadata": {},
     "output_type": "execute_result"
    }
   ],
   "source": [
    "pd.set_option('display.max_columns', None)\n",
    "results_df"
   ]
  },
  {
   "attachments": {},
   "cell_type": "markdown",
   "metadata": {},
   "source": [
    "### In the context of the grid search, best_score represents the highest mean score, based on the selected scoring metric (in this case, neg_mean_squared_error). The negative value is used because GridSearchCV minimizes the metric, so by taking the negative value we can still track the performance in a maximization setting. The lower the mean squared error, the better the model's performance."
   ]
  }
 ],
 "metadata": {
  "kernelspec": {
   "display_name": "bloc_5",
   "language": "python",
   "name": "python3"
  },
  "language_info": {
   "codemirror_mode": {
    "name": "ipython",
    "version": 3
   },
   "file_extension": ".py",
   "mimetype": "text/x-python",
   "name": "python",
   "nbconvert_exporter": "python",
   "pygments_lexer": "ipython3",
   "version": "3.10.9"
  },
  "orig_nbformat": 4
 },
 "nbformat": 4,
 "nbformat_minor": 2
}
